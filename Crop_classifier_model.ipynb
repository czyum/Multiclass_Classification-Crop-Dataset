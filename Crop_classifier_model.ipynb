{
  "nbformat": 4,
  "nbformat_minor": 0,
  "metadata": {
    "colab": {
      "name": "Crop_classifier.ipynb",
      "provenance": [],
      "collapsed_sections": []
    },
    "kernelspec": {
      "name": "python3",
      "display_name": "Python 3"
    }
  },
  "cells": [
    {
      "cell_type": "markdown",
      "metadata": {
        "id": "V8u1f0TywmHF",
        "colab_type": "text"
      },
      "source": [
        "#   <b>Multiclass Classification(Crop Dataset)"
      ]
    },
    {
      "cell_type": "markdown",
      "metadata": {
        "id": "_uVaJ2bvxD-O",
        "colab_type": "text"
      },
      "source": [
        "### <b>Importing Libraries"
      ]
    },
    {
      "cell_type": "code",
      "metadata": {
        "id": "3Dy4wvSftFS5",
        "colab_type": "code",
        "colab": {}
      },
      "source": [
        "%matplotlib inline\n",
        "import warnings\n",
        "warnings.filterwarnings(\"ignore\")\n",
        "import sqlite3\n",
        "import pandas as pd\n",
        "import numpy as np\n",
        "import nltk\n",
        "import string\n",
        "import matplotlib.pyplot as plt\n",
        "import seaborn as sns\n",
        "from sklearn.metrics import confusion_matrix\n",
        "from sklearn import metrics\n",
        "from sklearn.metrics import roc_curve, auc\n",
        "import re\n",
        "import pickle\n",
        "from tqdm import tqdm\n",
        "import os\n",
        "from google.colab import files\n",
        "from google.colab import drive\n",
        "import io\n",
        "from prettytable import PrettyTable\n",
        "from sklearn.ensemble import RandomForestClassifier\n",
        "from sklearn.neighbors import KNeighborsClassifier\n",
        "from sklearn.preprocessing import LabelBinarizer\n",
        "from sklearn.metrics import confusion_matrix \n",
        "from sklearn.metrics import roc_auc_score\n",
        "from sklearn.svm import SVC\n",
        "from sklearn.model_selection import train_test_split\n",
        "from sklearn.utils import shuffle\n",
        "from sklearn.tree import DecisionTreeClassifier\n",
        "from sklearn.preprocessing import MinMaxScaler\n",
        "from joblib import dump, load"
      ],
      "execution_count": 0,
      "outputs": []
    },
    {
      "cell_type": "code",
      "metadata": {
        "id": "V6f_ZnRLtVj_",
        "colab_type": "code",
        "outputId": "96bca658-6961-476a-fce7-5e6c73ead69e",
        "colab": {
          "base_uri": "https://localhost:8080/",
          "height": 122
        }
      },
      "source": [
        "# drive.mount('/content/drive')"
      ],
      "execution_count": 0,
      "outputs": [
        {
          "output_type": "stream",
          "text": [
            "Go to this URL in a browser: https://accounts.google.com/o/oauth2/auth?client_id=947318989803-6bn6qk8qdgf4n4g3pfee6491hc0brc4i.apps.googleusercontent.com&redirect_uri=urn%3aietf%3awg%3aoauth%3a2.0%3aoob&response_type=code&scope=email%20https%3a%2f%2fwww.googleapis.com%2fauth%2fdocs.test%20https%3a%2f%2fwww.googleapis.com%2fauth%2fdrive%20https%3a%2f%2fwww.googleapis.com%2fauth%2fdrive.photos.readonly%20https%3a%2f%2fwww.googleapis.com%2fauth%2fpeopleapi.readonly\n",
            "\n",
            "Enter your authorization code:\n",
            "··········\n",
            "Mounted at /content/drive\n"
          ],
          "name": "stdout"
        }
      ]
    },
    {
      "cell_type": "markdown",
      "metadata": {
        "id": "PaQX01AAIBgV",
        "colab_type": "text"
      },
      "source": [
        "### <i>Above step required only if you are using colab"
      ]
    },
    {
      "cell_type": "code",
      "metadata": {
        "id": "iDDNtwMJtYk3",
        "colab_type": "code",
        "colab": {}
      },
      "source": [
        "data=pd.read_csv(\"/content/drive/My Drive/cpdata.csv\")"
      ],
      "execution_count": 0,
      "outputs": []
    },
    {
      "cell_type": "code",
      "metadata": {
        "id": "Z_q-cSE6t5KS",
        "colab_type": "code",
        "outputId": "080c2ed9-bc35-4d79-e483-97a10e707ea6",
        "colab": {
          "base_uri": "https://localhost:8080/",
          "height": 255
        }
      },
      "source": [
        "print(\"Number of data points in train data\",data.shape)\n",
        "print('-'*50)\n",
        "print(\"The attributes of data :\",data.columns.values)\n",
        "data.head()"
      ],
      "execution_count": 0,
      "outputs": [
        {
          "output_type": "stream",
          "text": [
            "Number of data points in train data (3100, 5)\n",
            "--------------------------------------------------\n",
            "The attributes of data : ['temperature' 'humidity' 'ph' 'rainfall' 'label']\n"
          ],
          "name": "stdout"
        },
        {
          "output_type": "execute_result",
          "data": {
            "text/html": [
              "<div>\n",
              "<style scoped>\n",
              "    .dataframe tbody tr th:only-of-type {\n",
              "        vertical-align: middle;\n",
              "    }\n",
              "\n",
              "    .dataframe tbody tr th {\n",
              "        vertical-align: top;\n",
              "    }\n",
              "\n",
              "    .dataframe thead th {\n",
              "        text-align: right;\n",
              "    }\n",
              "</style>\n",
              "<table border=\"1\" class=\"dataframe\">\n",
              "  <thead>\n",
              "    <tr style=\"text-align: right;\">\n",
              "      <th></th>\n",
              "      <th>temperature</th>\n",
              "      <th>humidity</th>\n",
              "      <th>ph</th>\n",
              "      <th>rainfall</th>\n",
              "      <th>label</th>\n",
              "    </tr>\n",
              "  </thead>\n",
              "  <tbody>\n",
              "    <tr>\n",
              "      <th>0</th>\n",
              "      <td>20.879744</td>\n",
              "      <td>82.002744</td>\n",
              "      <td>6.502985</td>\n",
              "      <td>202.935536</td>\n",
              "      <td>rice</td>\n",
              "    </tr>\n",
              "    <tr>\n",
              "      <th>1</th>\n",
              "      <td>21.770462</td>\n",
              "      <td>80.319644</td>\n",
              "      <td>7.038096</td>\n",
              "      <td>226.655537</td>\n",
              "      <td>rice</td>\n",
              "    </tr>\n",
              "    <tr>\n",
              "      <th>2</th>\n",
              "      <td>23.004459</td>\n",
              "      <td>82.320763</td>\n",
              "      <td>7.840207</td>\n",
              "      <td>263.964248</td>\n",
              "      <td>rice</td>\n",
              "    </tr>\n",
              "    <tr>\n",
              "      <th>3</th>\n",
              "      <td>26.491096</td>\n",
              "      <td>80.158363</td>\n",
              "      <td>6.980401</td>\n",
              "      <td>242.864034</td>\n",
              "      <td>rice</td>\n",
              "    </tr>\n",
              "    <tr>\n",
              "      <th>4</th>\n",
              "      <td>20.130175</td>\n",
              "      <td>81.604873</td>\n",
              "      <td>7.628473</td>\n",
              "      <td>262.717340</td>\n",
              "      <td>rice</td>\n",
              "    </tr>\n",
              "  </tbody>\n",
              "</table>\n",
              "</div>"
            ],
            "text/plain": [
              "   temperature   humidity        ph    rainfall label\n",
              "0    20.879744  82.002744  6.502985  202.935536  rice\n",
              "1    21.770462  80.319644  7.038096  226.655537  rice\n",
              "2    23.004459  82.320763  7.840207  263.964248  rice\n",
              "3    26.491096  80.158363  6.980401  242.864034  rice\n",
              "4    20.130175  81.604873  7.628473  262.717340  rice"
            ]
          },
          "metadata": {
            "tags": []
          },
          "execution_count": 4
        }
      ]
    },
    {
      "cell_type": "code",
      "metadata": {
        "id": "oyuR-7D5uG80",
        "colab_type": "code",
        "outputId": "f0c1ef74-8e4a-43d5-9888-81d953f37ca7",
        "colab": {
          "base_uri": "https://localhost:8080/",
          "height": 561
        }
      },
      "source": [
        "print(data['label'].value_counts())"
      ],
      "execution_count": 0,
      "outputs": [
        {
          "output_type": "stream",
          "text": [
            "muskmelon       100\n",
            "Jute            100\n",
            "Kidney Beans    100\n",
            "Coffee          100\n",
            "Peas            100\n",
            "grapes          100\n",
            "Pigeon Peas     100\n",
            "Cotton          100\n",
            "Coconut         100\n",
            "apple           100\n",
            "mango           100\n",
            "Chickpea        100\n",
            "Adzuki Beans    100\n",
            "pomegranate     100\n",
            "wheat           100\n",
            "Moth Beans      100\n",
            "Mung Bean       100\n",
            "banana          100\n",
            "Sugarcane       100\n",
            "millet          100\n",
            "watermelon      100\n",
            "papaya          100\n",
            "rice            100\n",
            "Tea             100\n",
            "Rubber          100\n",
            "Lentil          100\n",
            "maize           100\n",
            "Ground Nut      100\n",
            "Tobacco         100\n",
            "Black gram      100\n",
            "orange          100\n",
            "Name: label, dtype: int64\n"
          ],
          "name": "stdout"
        }
      ]
    },
    {
      "cell_type": "code",
      "metadata": {
        "id": "caPfKJn57f5l",
        "colab_type": "code",
        "outputId": "85ed900c-ceef-4029-88e6-26d6ebf04597",
        "colab": {
          "base_uri": "https://localhost:8080/",
          "height": 119
        }
      },
      "source": [
        "data.dtypes"
      ],
      "execution_count": 0,
      "outputs": [
        {
          "output_type": "execute_result",
          "data": {
            "text/plain": [
              "temperature    float64\n",
              "humidity       float64\n",
              "ph             float64\n",
              "rainfall       float64\n",
              "label           object\n",
              "dtype: object"
            ]
          },
          "metadata": {
            "tags": []
          },
          "execution_count": 6
        }
      ]
    },
    {
      "cell_type": "code",
      "metadata": {
        "id": "2bEk_yMi_q7Q",
        "colab_type": "code",
        "outputId": "afa74af2-3f39-41c4-ab95-bd7310ba8222",
        "colab": {
          "base_uri": "https://localhost:8080/",
          "height": 119
        }
      },
      "source": [
        "(data==np.nan).any()"
      ],
      "execution_count": 0,
      "outputs": [
        {
          "output_type": "execute_result",
          "data": {
            "text/plain": [
              "temperature    False\n",
              "humidity       False\n",
              "ph             False\n",
              "rainfall       False\n",
              "label          False\n",
              "dtype: bool"
            ]
          },
          "metadata": {
            "tags": []
          },
          "execution_count": 7
        }
      ]
    },
    {
      "cell_type": "markdown",
      "metadata": {
        "id": "InAxS0tBxTLw",
        "colab_type": "text"
      },
      "source": [
        "### <i>We can see that the data set is completely balanced and there are no missing values. Hence, no futher interpolation or imputation of missing data required."
      ]
    },
    {
      "cell_type": "markdown",
      "metadata": {
        "id": "roIxe4_Xx_qZ",
        "colab_type": "text"
      },
      "source": [
        "### <i>Let us convert the Labels into numbers for classification "
      ]
    },
    {
      "cell_type": "code",
      "metadata": {
        "id": "a_7w4Mej8ZYe",
        "colab_type": "code",
        "outputId": "264f0f30-18a8-43f6-ade6-9cfb4260b637",
        "colab": {
          "base_uri": "https://localhost:8080/",
          "height": 54
        }
      },
      "source": [
        "Type={}\n",
        "for i,j in enumerate(data.label.unique()):\n",
        "    Type[j]=i\n",
        "print(Type)   \n",
        "crop=[]\n",
        "for i in data.label:\n",
        "    crop.append(Type[i])\n",
        "data['label']=crop    \n"
      ],
      "execution_count": 0,
      "outputs": [
        {
          "output_type": "stream",
          "text": [
            "{'rice': 0, 'wheat': 1, 'Mung Bean': 2, 'Tea': 3, 'millet': 4, 'maize': 5, 'Lentil': 6, 'Jute': 7, 'Coffee': 8, 'Cotton': 9, 'Ground Nut': 10, 'Peas': 11, 'Rubber': 12, 'Sugarcane': 13, 'Tobacco': 14, 'Kidney Beans': 15, 'Moth Beans': 16, 'Coconut': 17, 'Black gram': 18, 'Adzuki Beans': 19, 'Pigeon Peas': 20, 'Chickpea': 21, 'banana': 22, 'grapes': 23, 'apple': 24, 'mango': 25, 'muskmelon': 26, 'orange': 27, 'papaya': 28, 'pomegranate': 29, 'watermelon': 30}\n"
          ],
          "name": "stdout"
        }
      ]
    },
    {
      "cell_type": "code",
      "metadata": {
        "id": "f5am7ycQ-lxe",
        "colab_type": "code",
        "outputId": "e821e78b-3561-4f32-9aba-86c78e4b6f9f",
        "colab": {
          "base_uri": "https://localhost:8080/",
          "height": 204
        }
      },
      "source": [
        "data.head()"
      ],
      "execution_count": 0,
      "outputs": [
        {
          "output_type": "execute_result",
          "data": {
            "text/html": [
              "<div>\n",
              "<style scoped>\n",
              "    .dataframe tbody tr th:only-of-type {\n",
              "        vertical-align: middle;\n",
              "    }\n",
              "\n",
              "    .dataframe tbody tr th {\n",
              "        vertical-align: top;\n",
              "    }\n",
              "\n",
              "    .dataframe thead th {\n",
              "        text-align: right;\n",
              "    }\n",
              "</style>\n",
              "<table border=\"1\" class=\"dataframe\">\n",
              "  <thead>\n",
              "    <tr style=\"text-align: right;\">\n",
              "      <th></th>\n",
              "      <th>temperature</th>\n",
              "      <th>humidity</th>\n",
              "      <th>ph</th>\n",
              "      <th>rainfall</th>\n",
              "      <th>label</th>\n",
              "    </tr>\n",
              "  </thead>\n",
              "  <tbody>\n",
              "    <tr>\n",
              "      <th>0</th>\n",
              "      <td>20.879744</td>\n",
              "      <td>82.002744</td>\n",
              "      <td>6.502985</td>\n",
              "      <td>202.935536</td>\n",
              "      <td>0</td>\n",
              "    </tr>\n",
              "    <tr>\n",
              "      <th>1</th>\n",
              "      <td>21.770462</td>\n",
              "      <td>80.319644</td>\n",
              "      <td>7.038096</td>\n",
              "      <td>226.655537</td>\n",
              "      <td>0</td>\n",
              "    </tr>\n",
              "    <tr>\n",
              "      <th>2</th>\n",
              "      <td>23.004459</td>\n",
              "      <td>82.320763</td>\n",
              "      <td>7.840207</td>\n",
              "      <td>263.964248</td>\n",
              "      <td>0</td>\n",
              "    </tr>\n",
              "    <tr>\n",
              "      <th>3</th>\n",
              "      <td>26.491096</td>\n",
              "      <td>80.158363</td>\n",
              "      <td>6.980401</td>\n",
              "      <td>242.864034</td>\n",
              "      <td>0</td>\n",
              "    </tr>\n",
              "    <tr>\n",
              "      <th>4</th>\n",
              "      <td>20.130175</td>\n",
              "      <td>81.604873</td>\n",
              "      <td>7.628473</td>\n",
              "      <td>262.717340</td>\n",
              "      <td>0</td>\n",
              "    </tr>\n",
              "  </tbody>\n",
              "</table>\n",
              "</div>"
            ],
            "text/plain": [
              "   temperature   humidity        ph    rainfall  label\n",
              "0    20.879744  82.002744  6.502985  202.935536      0\n",
              "1    21.770462  80.319644  7.038096  226.655537      0\n",
              "2    23.004459  82.320763  7.840207  263.964248      0\n",
              "3    26.491096  80.158363  6.980401  242.864034      0\n",
              "4    20.130175  81.604873  7.628473  262.717340      0"
            ]
          },
          "metadata": {
            "tags": []
          },
          "execution_count": 9
        }
      ]
    },
    {
      "cell_type": "markdown",
      "metadata": {
        "id": "IOJhKIUayMF1",
        "colab_type": "text"
      },
      "source": [
        "# <b>Data Visualization"
      ]
    },
    {
      "cell_type": "code",
      "metadata": {
        "id": "5bnHQl-P6RhS",
        "colab_type": "code",
        "outputId": "166e697d-7801-425b-98a6-0177916e1a72",
        "colab": {
          "base_uri": "https://localhost:8080/",
          "height": 1000
        }
      },
      "source": [
        "cols=list(data.columns.unique())\n",
        "for col in cols[:-1]:\n",
        "    sns.set_style(\"whitegrid\")\n",
        "    sns.boxplot('label',col, data=data)\n",
        "    plt.xlabel(\"label\") # Set text for the x axis\n",
        "    plt.ylabel(col)# Set text for y axis\n",
        "    plt.show()"
      ],
      "execution_count": 0,
      "outputs": [
        {
          "output_type": "display_data",
          "data": {
            "image/png": "[encoded data removed]",
            "text/plain": [
              "<Figure size 432x288 with 1 Axes>"
            ]
          },
          "metadata": {
            "tags": []
          }
        },
        {
          "output_type": "display_data",
          "data": {
            "image/png": "[encoded data removed]",
            "text/plain": [
              "<Figure size 432x288 with 1 Axes>"
            ]
          },
          "metadata": {
            "tags": []
          }
        },
        {
          "output_type": "display_data",
          "data": {
            "image/png": "[encoded data removed]",
            "text/plain": [
              "<Figure size 432x288 with 1 Axes>"
            ]
          },
          "metadata": {
            "tags": []
          }
        },
        {
          "output_type": "display_data",
          "data": {
            "image/png": "[encoded data removed]",
            "text/plain": [
              "<Figure size 432x288 with 1 Axes>"
            ]
          },
          "metadata": {
            "tags": []
          }
        }
      ]
    },
    {
      "cell_type": "markdown",
      "metadata": {
        "id": "qqT4mpngyU6U",
        "colab_type": "text"
      },
      "source": [
        "### <i>We can see that the pH of various crops are similar and there inter quartile ranges overlap for most of them.Hence this would not a predictive feature on its own but the fact that their no much correlation of it with other features,can make it a potential feature when combined with other three.Therefore it is best to consider all the features for the model training.<br><br>It can also be observed from the box plots that there no outliers as such in the data.Hence ,no worries about the outliers."
      ]
    },
    {
      "cell_type": "markdown",
      "metadata": {
        "id": "mpISPPsFzoFG",
        "colab_type": "text"
      },
      "source": [
        "# <b>Data Splitting  "
      ]
    },
    {
      "cell_type": "markdown",
      "metadata": {
        "id": "IRhAUK-qzxhL",
        "colab_type": "text"
      },
      "source": [
        "### <i>We split the data into Train data - used for training a model<br>Cross Validation data - used for tuning the hyper parameters<br>Test data - used for testing the trained model\n",
        "\n"
      ]
    },
    {
      "cell_type": "code",
      "metadata": {
        "id": "nViCzCU8PjFd",
        "colab_type": "code",
        "outputId": "1215e32f-2efd-456e-856c-c88e1e0f9fd1",
        "colab": {
          "base_uri": "https://localhost:8080/",
          "height": 102
        }
      },
      "source": [
        "data=shuffle(data)\n",
        "y=data['label']\n",
        "X=data.drop(['label'],axis=1)\n",
        "print(\"The shape of X:\",X.shape)\n",
        "print(\"The shape of y:\",y.shape)\n",
        "X_train, X_test, y_train, y_test = train_test_split(X, y, test_size=0.18, stratify=y)\n",
        "X_train,X_cv,y_train,y_cv=train_test_split(X_train,y_train,test_size=0.25,stratify=y_train)\n",
        "print(\"The shape of train data:\",'X:',X_train.shape,'y:',y_train.shape)\n",
        "print(\"The shape of test data:\",'X:',X_test.shape,'y:',y_test.shape)\n",
        "print(\"The shape of cv data:\",'X:',X_cv.shape,'y:',y_cv.shape)"
      ],
      "execution_count": 0,
      "outputs": [
        {
          "output_type": "stream",
          "text": [
            "The shape of X: (3100, 4)\n",
            "The shape of y: (3100,)\n",
            "The shape of train data: X: (1906, 4) y: (1906,)\n",
            "The shape of test data: X: (558, 4) y: (558,)\n",
            "The shape of cv data: X: (636, 4) y: (636,)\n"
          ],
          "name": "stdout"
        }
      ]
    },
    {
      "cell_type": "markdown",
      "metadata": {
        "id": "OTCMWfTv0v1C",
        "colab_type": "text"
      },
      "source": [
        "# <b>Scaling the data "
      ]
    },
    {
      "cell_type": "markdown",
      "metadata": {
        "id": "ipr4w70m1PAq",
        "colab_type": "text"
      },
      "source": [
        "### <i>We use MinMax Scaling rather than  Z-score /Standard Scaling as most of them are far from <b>Normal</b> behaviour."
      ]
    },
    {
      "cell_type": "code",
      "metadata": {
        "id": "e72ncxyBQ-xp",
        "colab_type": "code",
        "colab": {}
      },
      "source": [
        "scaler=MinMaxScaler()\n",
        "scaler.fit(X_train)\n",
        "X_train=scaler.transform(X_train)\n",
        "X_test=scaler.transform(X_test)\n",
        "X_cv=scaler.transform(X_cv)"
      ],
      "execution_count": 0,
      "outputs": []
    },
    {
      "cell_type": "markdown",
      "metadata": {
        "id": "nUvkMRnT1ycF",
        "colab_type": "text"
      },
      "source": [
        "# <b>Model Training"
      ]
    },
    {
      "cell_type": "markdown",
      "metadata": {
        "id": "xyj0TyJc7MER",
        "colab_type": "text"
      },
      "source": [
        "## <b>K Nearest Neighbors"
      ]
    },
    {
      "cell_type": "code",
      "metadata": {
        "id": "LkA9YUi_3xcg",
        "colab_type": "code",
        "outputId": "e208d2e3-d256-4802-f9a7-6e3399e04c99",
        "colab": {
          "base_uri": "https://localhost:8080/",
          "height": 34
        }
      },
      "source": [
        "best_k=0\n",
        "best_score=0\n",
        "lb=LabelBinarizer()\n",
        "lb.fit(y_cv)\n",
        "binary=lb.transform(y_cv)\n",
        "for k in range(5,61,5):\n",
        "    clf = KNeighborsClassifier(n_neighbors=k)\n",
        "    clf.fit(X_train,y_train)\n",
        "    pred=clf.predict(X_cv)\n",
        "    pred=lb.transform(pred)\n",
        "    score=roc_auc_score(binary,pred)\n",
        "    if best_score<=score:\n",
        "        best_k=k\n",
        "        best_score=score\n",
        "print(\"The optimal value for k is:\",best_k) "
      ],
      "execution_count": 0,
      "outputs": [
        {
          "output_type": "stream",
          "text": [
            "The optimal value for k is: 5\n"
          ],
          "name": "stdout"
        }
      ]
    },
    {
      "cell_type": "markdown",
      "metadata": {
        "id": "NSNF2Fhs1-18",
        "colab_type": "text"
      },
      "source": [
        "### <i>Train the final model with optimal parameter"
      ]
    },
    {
      "cell_type": "code",
      "metadata": {
        "id": "dPBO87kG4-hc",
        "colab_type": "code",
        "outputId": "b983b8f6-3d8b-4a78-be47-835dc136f11e",
        "colab": {
          "base_uri": "https://localhost:8080/",
          "height": 34
        }
      },
      "source": [
        "knn =KNeighborsClassifier(n_neighbors=5)\n",
        "knn.fit(X_train,y_train)\n",
        "pred=knn.predict(X_test)\n",
        "lb.fit(y_test)\n",
        "binary=lb.transform(y_test)\n",
        "predF=lb.transform(pred)\n",
        "score=roc_auc_score(binary,predF)\n",
        "print(\"The auc is :\",score)"
      ],
      "execution_count": 0,
      "outputs": [
        {
          "output_type": "stream",
          "text": [
            "The auc is : 0.9407407407407408\n"
          ],
          "name": "stdout"
        }
      ]
    },
    {
      "cell_type": "markdown",
      "metadata": {
        "id": "e30R97E_2I9D",
        "colab_type": "text"
      },
      "source": [
        "### <i>Printing out some Actual and predicted Labels"
      ]
    },
    {
      "cell_type": "code",
      "metadata": {
        "id": "JiRbBrg066Bx",
        "colab_type": "code",
        "outputId": "7f3ec0e6-c7a7-4522-9bfb-a44f554ed6c0",
        "colab": {
          "base_uri": "https://localhost:8080/",
          "height": 425
        }
      },
      "source": [
        "ReturnType={v:k for k,v in Type.items()}\n",
        "table= PrettyTable()\n",
        "test=list(y_test)\n",
        "pred=list(map(lambda a:ReturnType[a],pred[:500:25]))\n",
        "test=list(map(lambda a:ReturnType[a],test[:500:25]))\n",
        "table.add_column(\"Actual_label\",test)\n",
        "table.add_column(\"Predicted_label\",pred)\n",
        "print(table)"
      ],
      "execution_count": 0,
      "outputs": [
        {
          "output_type": "stream",
          "text": [
            "+--------------+-----------------+\n",
            "| Actual_label | Predicted_label |\n",
            "+--------------+-----------------+\n",
            "|    orange    |      orange     |\n",
            "|  Moth Beans  |    Moth Beans   |\n",
            "|  Moth Beans  |    Moth Beans   |\n",
            "|    grapes    |      grapes     |\n",
            "|    wheat     |      wheat      |\n",
            "|     rice     |       Jute      |\n",
            "|  Ground Nut  |    Ground Nut   |\n",
            "|   Chickpea   |     Chickpea    |\n",
            "|   Tobacco    |     Tobacco     |\n",
            "| Adzuki Beans |   Adzuki Beans  |\n",
            "|  Mung Bean   |    Mung Bean    |\n",
            "|    banana    |      banana     |\n",
            "|   Tobacco    |     Tobacco     |\n",
            "|    maize     |     Tobacco     |\n",
            "|    orange    |      orange     |\n",
            "|  muskmelon   |    muskmelon    |\n",
            "|     Tea      |       Tea       |\n",
            "|    wheat     |      mango      |\n",
            "|  Mung Bean   |    watermelon   |\n",
            "|   Chickpea   |     Chickpea    |\n",
            "+--------------+-----------------+\n"
          ],
          "name": "stdout"
        }
      ]
    },
    {
      "cell_type": "markdown",
      "metadata": {
        "id": "4LkHqpEn12G8",
        "colab_type": "text"
      },
      "source": [
        "## <b>Support Vector Machine"
      ]
    },
    {
      "cell_type": "code",
      "metadata": {
        "id": "d8HuTgf4hZg2",
        "colab_type": "code",
        "outputId": "f886f015-0ee8-4b5c-895c-f3e1f0c2b515",
        "colab": {
          "base_uri": "https://localhost:8080/",
          "height": 34
        }
      },
      "source": [
        "best_C=0\n",
        "best_score=0\n",
        "lb=LabelBinarizer()\n",
        "lb.fit(y_cv)\n",
        "binary=lb.transform(y_cv)\n",
        "for c in range(-5,6,1):\n",
        "    clf = SVC(C=2**c,kernel='rbf',gamma='scale')\n",
        "    clf.fit(X_train,y_train)\n",
        "    pred=clf.predict(X_cv)\n",
        "    pred=lb.transform(pred)\n",
        "    score=roc_auc_score(binary,pred)\n",
        "    if best_score<=score:\n",
        "        best_C=c\n",
        "        best_score=score\n",
        "print(\"The optimal value for C is:\",2**best_C) "
      ],
      "execution_count": 0,
      "outputs": [
        {
          "output_type": "stream",
          "text": [
            "The optimal value for C is: 32\n"
          ],
          "name": "stdout"
        }
      ]
    },
    {
      "cell_type": "code",
      "metadata": {
        "id": "VQkow2NArdFa",
        "colab_type": "code",
        "outputId": "415b38eb-62fc-42c1-e619-15a743b9d20f",
        "colab": {
          "base_uri": "https://localhost:8080/",
          "height": 34
        }
      },
      "source": [
        "svm =SVC(C=32,gamma='scale',kernel='rbf')\n",
        "svm.fit(X_train,y_train)\n",
        "pred=svm.predict(X_test)\n",
        "lb.fit(y_test)\n",
        "binary=lb.transform(y_test)\n",
        "predF=lb.transform(pred)\n",
        "score=roc_auc_score(binary,predF)\n",
        "print(\"The auc is :\",score)"
      ],
      "execution_count": 0,
      "outputs": [
        {
          "output_type": "stream",
          "text": [
            "The auc is : 0.9444444444444443\n"
          ],
          "name": "stdout"
        }
      ]
    },
    {
      "cell_type": "code",
      "metadata": {
        "id": "APjDwCOcdjI-",
        "colab_type": "code",
        "outputId": "7add5a71-dbaf-4e57-92c8-ed4efbc83db4",
        "colab": {
          "base_uri": "https://localhost:8080/",
          "height": 425
        }
      },
      "source": [
        "table= PrettyTable()\n",
        "test=list(y_test)\n",
        "pred=list(map(lambda a:ReturnType[a],pred[:500:25]))\n",
        "test=list(map(lambda a:ReturnType[a],test[:500:25]))\n",
        "table.add_column(\"Actual_label\",test)\n",
        "table.add_column(\"Predicted_label\",pred)\n",
        "print(table)    "
      ],
      "execution_count": 0,
      "outputs": [
        {
          "output_type": "stream",
          "text": [
            "+--------------+-----------------+\n",
            "| Actual_label | Predicted_label |\n",
            "+--------------+-----------------+\n",
            "|    orange    |     Coconut     |\n",
            "|  Moth Beans  |    Moth Beans   |\n",
            "|  Moth Beans  |    Moth Beans   |\n",
            "|    grapes    |      grapes     |\n",
            "|    wheat     |      wheat      |\n",
            "|     rice     |       rice      |\n",
            "|  Ground Nut  |    Ground Nut   |\n",
            "|   Chickpea   |     Chickpea    |\n",
            "|   Tobacco    |     Tobacco     |\n",
            "| Adzuki Beans |   Adzuki Beans  |\n",
            "|  Mung Bean   |    Mung Bean    |\n",
            "|    banana    |      banana     |\n",
            "|   Tobacco    |     Tobacco     |\n",
            "|    maize     |      maize      |\n",
            "|    orange    |      orange     |\n",
            "|  muskmelon   |    muskmelon    |\n",
            "|     Tea      |       Tea       |\n",
            "|    wheat     |      wheat      |\n",
            "|  Mung Bean   |    watermelon   |\n",
            "|   Chickpea   |     Chickpea    |\n",
            "+--------------+-----------------+\n"
          ],
          "name": "stdout"
        }
      ]
    },
    {
      "cell_type": "markdown",
      "metadata": {
        "id": "muM2dRt_2Ugv",
        "colab_type": "text"
      },
      "source": [
        "## <b>Decision Tree "
      ]
    },
    {
      "cell_type": "code",
      "metadata": {
        "id": "JiSFwdwwuww7",
        "colab_type": "code",
        "outputId": "899dca74-305b-465d-d670-14010fb7d3cd",
        "colab": {
          "base_uri": "https://localhost:8080/",
          "height": 34
        }
      },
      "source": [
        "best_depth=0\n",
        "best_score=0\n",
        "lb=LabelBinarizer()\n",
        "lb.fit(y_cv)\n",
        "binary=lb.transform(y_cv)\n",
        "for d in range(2,21,2):\n",
        "    clf = DecisionTreeClassifier(max_depth=d, random_state=3457)\n",
        "    clf.fit(X_train,y_train)\n",
        "    pred=clf.predict(X_cv)\n",
        "    pred=lb.transform(pred)\n",
        "    score=roc_auc_score(binary,pred)\n",
        "    if best_score<=score:\n",
        "        best_depth=d\n",
        "        best_score=score\n",
        "print(\"The optimal depth is:\",best_depth) "
      ],
      "execution_count": 0,
      "outputs": [
        {
          "output_type": "stream",
          "text": [
            "The optimal depth is: 16\n"
          ],
          "name": "stdout"
        }
      ]
    },
    {
      "cell_type": "code",
      "metadata": {
        "id": "VS2uJJLEu7Bm",
        "colab_type": "code",
        "outputId": "b8873b1a-1708-4d72-abe8-4d50a6b2e487",
        "colab": {
          "base_uri": "https://localhost:8080/",
          "height": 34
        }
      },
      "source": [
        "DT = DecisionTreeClassifier(max_depth=16, random_state=3457)\n",
        "DT.fit(X_train,y_train)\n",
        "pred=DT.predict(X_test)\n",
        "lb.fit(y_test)\n",
        "binary=lb.transform(y_test)\n",
        "predF=lb.transform(pred)\n",
        "score=roc_auc_score(binary,predF)\n",
        "print(\"The auc is :\",score)"
      ],
      "execution_count": 0,
      "outputs": [
        {
          "output_type": "stream",
          "text": [
            "The auc is : 0.9444444444444445\n"
          ],
          "name": "stdout"
        }
      ]
    },
    {
      "cell_type": "code",
      "metadata": {
        "id": "XuKZmj4avMWm",
        "colab_type": "code",
        "outputId": "5e4f900f-a044-42be-e927-b725124dd705",
        "colab": {
          "base_uri": "https://localhost:8080/",
          "height": 425
        }
      },
      "source": [
        "table= PrettyTable()\n",
        "test=list(y_test)\n",
        "pred=list(map(lambda a:ReturnType[a],pred[:500:25]))\n",
        "test=list(map(lambda a:ReturnType[a],test[:500:25]))\n",
        "table.add_column(\"Actual_label\",test)\n",
        "table.add_column(\"Predicted_label\",pred)\n",
        "print(table) "
      ],
      "execution_count": 0,
      "outputs": [
        {
          "output_type": "stream",
          "text": [
            "+--------------+-----------------+\n",
            "| Actual_label | Predicted_label |\n",
            "+--------------+-----------------+\n",
            "|    orange    |      orange     |\n",
            "|  Moth Beans  |    Moth Beans   |\n",
            "|  Moth Beans  |    Moth Beans   |\n",
            "|    grapes    |      grapes     |\n",
            "|    wheat     |      wheat      |\n",
            "|     rice     |       rice      |\n",
            "|  Ground Nut  |    Ground Nut   |\n",
            "|   Chickpea   |     Chickpea    |\n",
            "|   Tobacco    |     Tobacco     |\n",
            "| Adzuki Beans |   Adzuki Beans  |\n",
            "|  Mung Bean   |    Mung Bean    |\n",
            "|    banana    |    Sugarcane    |\n",
            "|   Tobacco    |     Tobacco     |\n",
            "|    maize     |   Pigeon Peas   |\n",
            "|    orange    |      orange     |\n",
            "|  muskmelon   |    muskmelon    |\n",
            "|     Tea      |       Tea       |\n",
            "|    wheat     |      wheat      |\n",
            "|  Mung Bean   |    Mung Bean    |\n",
            "|   Chickpea   |     Chickpea    |\n",
            "+--------------+-----------------+\n"
          ],
          "name": "stdout"
        }
      ]
    },
    {
      "cell_type": "markdown",
      "metadata": {
        "id": "C2OCw1YW2fNk",
        "colab_type": "text"
      },
      "source": [
        "## <b>Random Forest Ensemble Model"
      ]
    },
    {
      "cell_type": "code",
      "metadata": {
        "id": "rVd59K7iSppH",
        "colab_type": "code",
        "outputId": "b374a06d-9105-4689-c3a8-223133d3f4e1",
        "colab": {
          "base_uri": "https://localhost:8080/",
          "height": 34
        }
      },
      "source": [
        "best_depth=0\n",
        "best_score=0\n",
        "lb=LabelBinarizer()\n",
        "lb.fit(y_cv)\n",
        "binary=lb.transform(y_cv)\n",
        "for d in range(2,21,2):\n",
        "    clf = RandomForestClassifier(max_depth=d, random_state=3457,n_estimators=80)\n",
        "    clf.fit(X_train,y_train)\n",
        "    pred=clf.predict(X_cv)\n",
        "    pred=lb.transform(pred)\n",
        "    score=roc_auc_score(binary,pred)\n",
        "    if best_score<=score:\n",
        "        best_depth=d\n",
        "        best_score=score\n",
        "print(\"The optimal depth is:\",best_depth)        "
      ],
      "execution_count": 0,
      "outputs": [
        {
          "output_type": "stream",
          "text": [
            "The optimal depth is: 20\n"
          ],
          "name": "stdout"
        }
      ]
    },
    {
      "cell_type": "code",
      "metadata": {
        "id": "PI0bUfr3SumQ",
        "colab_type": "code",
        "outputId": "bcdddffa-fd22-45c8-89b1-27ad958c4e1e",
        "colab": {
          "base_uri": "https://localhost:8080/",
          "height": 34
        }
      },
      "source": [
        "RF= RandomForestClassifier(max_depth=20, random_state=3457,n_estimators=80)\n",
        "RF.fit(X_train,y_train)\n",
        "pred=RF.predict(X_test)\n",
        "lb.fit(y_test)\n",
        "binary=lb.transform(y_test)\n",
        "predF=lb.transform(pred)\n",
        "score=roc_auc_score(binary,predF)\n",
        "print(\"The auc is :\",score)"
      ],
      "execution_count": 0,
      "outputs": [
        {
          "output_type": "stream",
          "text": [
            "The auc is : 0.9703703703703703\n"
          ],
          "name": "stdout"
        }
      ]
    },
    {
      "cell_type": "code",
      "metadata": {
        "id": "2jtq1N0ntViG",
        "colab_type": "code",
        "outputId": "8fe136ef-ad05-4a47-a516-5c6c58a11715",
        "colab": {
          "base_uri": "https://localhost:8080/",
          "height": 425
        }
      },
      "source": [
        "table= PrettyTable()\n",
        "test=list(y_test)\n",
        "pred=list(pred)\n",
        "predT=list(map(lambda a:ReturnType[a],pred[:500:25]))\n",
        "testT=list(map(lambda a:ReturnType[a],test[:500:25]))\n",
        "table.add_column(\"Actual_label\",testT)\n",
        "table.add_column(\"Predicted_label\",predT)\n",
        "print(table)"
      ],
      "execution_count": 0,
      "outputs": [
        {
          "output_type": "stream",
          "text": [
            "+--------------+-----------------+\n",
            "| Actual_label | Predicted_label |\n",
            "+--------------+-----------------+\n",
            "|    orange    |      orange     |\n",
            "|  Moth Beans  |    Moth Beans   |\n",
            "|  Moth Beans  |    Moth Beans   |\n",
            "|    grapes    |      grapes     |\n",
            "|    wheat     |      wheat      |\n",
            "|     rice     |       rice      |\n",
            "|  Ground Nut  |    Ground Nut   |\n",
            "|   Chickpea   |     Chickpea    |\n",
            "|   Tobacco    |     Tobacco     |\n",
            "| Adzuki Beans |   Adzuki Beans  |\n",
            "|  Mung Bean   |    Mung Bean    |\n",
            "|    banana    |      banana     |\n",
            "|   Tobacco    |     Tobacco     |\n",
            "|    maize     |      maize      |\n",
            "|    orange    |      orange     |\n",
            "|  muskmelon   |    muskmelon    |\n",
            "|     Tea      |       Tea       |\n",
            "|    wheat     |      wheat      |\n",
            "|  Mung Bean   |    Mung Bean    |\n",
            "|   Chickpea   |     Chickpea    |\n",
            "+--------------+-----------------+\n"
          ],
          "name": "stdout"
        }
      ]
    },
    {
      "cell_type": "markdown",
      "metadata": {
        "id": "9g6S8vtGIbWO",
        "colab_type": "text"
      },
      "source": [
        "## <b>Accuracy of individual CropType"
      ]
    },
    {
      "cell_type": "code",
      "metadata": {
        "id": "0gEmDZAr_yI-",
        "colab_type": "code",
        "colab": {}
      },
      "source": [
        "from collections import defaultdict\n",
        "predCount=defaultdict(int)\n",
        "for i in range(len(pred)):\n",
        "    if pred[i]==test[i]:\n",
        "        predCount[pred[i]]+=1\n",
        "for ele in data['label'].unique():\n",
        "    predCount[ele]/=test.count(ele)\n",
        "x=[]\n",
        "y=[]\n",
        "for i ,j in dict(predCount).items():\n",
        "    x.append(ReturnType[i])\n",
        "    y.append(j*100)            "
      ],
      "execution_count": 0,
      "outputs": []
    },
    {
      "cell_type": "code",
      "metadata": {
        "id": "msajiBGkFPG9",
        "colab_type": "code",
        "outputId": "8eb03461-6949-4597-d527-422d12906d7c",
        "colab": {
          "base_uri": "https://localhost:8080/",
          "height": 629
        }
      },
      "source": [
        "plt.figure(figsize=(40,20))\n",
        "plt.bar(x,y)\n",
        "plt.show()"
      ],
      "execution_count": 0,
      "outputs": [
        {
          "output_type": "display_data",
          "data": {
            "image/png": "[encoded data removed]",
            "text/plain": [
              "<Figure size 2880x1440 with 1 Axes>"
            ]
          },
          "metadata": {
            "tags": []
          }
        }
      ]
    },
    {
      "cell_type": "code",
      "metadata": {
        "id": "vhmHw3I6HoxT",
        "colab_type": "code",
        "outputId": "67208322-1918-41fb-df4e-fe5f12a2851c",
        "colab": {
          "base_uri": "https://localhost:8080/",
          "height": 612
        }
      },
      "source": [
        "table= PrettyTable()\n",
        "model=x\n",
        "AUC=y\n",
        "table.add_column(\"Crop_Type\",x)\n",
        "table.add_column(\"Accuracy\",list(map(lambda x:round(x,2),y)))\n",
        "print(table)"
      ],
      "execution_count": 0,
      "outputs": [
        {
          "output_type": "stream",
          "text": [
            "+--------------+----------+\n",
            "|  Crop_Type   | Accuracy |\n",
            "+--------------+----------+\n",
            "|    orange    |  83.33   |\n",
            "|    Coffee    |  100.0   |\n",
            "|     Jute     |  88.89   |\n",
            "|  muskmelon   |  100.0   |\n",
            "|    Rubber    |  94.44   |\n",
            "|  Mung Bean   |  100.0   |\n",
            "|   Coconut    |  100.0   |\n",
            "| pomegranate  |  83.33   |\n",
            "| Pigeon Peas  |  77.78   |\n",
            "|  Black gram  |  100.0   |\n",
            "|    banana    |  94.44   |\n",
            "|     Tea      |  100.0   |\n",
            "|    maize     |  100.0   |\n",
            "|     Peas     |  100.0   |\n",
            "| Kidney Beans |  100.0   |\n",
            "|  Sugarcane   |  94.44   |\n",
            "|  Moth Beans  |  77.78   |\n",
            "|    millet    |  100.0   |\n",
            "|    wheat     |  83.33   |\n",
            "|    papaya    |  83.33   |\n",
            "|    grapes    |  94.44   |\n",
            "|    Lentil    |  100.0   |\n",
            "|    apple     |  88.89   |\n",
            "|    mango     |  94.44   |\n",
            "| Adzuki Beans |  100.0   |\n",
            "|   Chickpea   |  100.0   |\n",
            "|  Ground Nut  |  100.0   |\n",
            "|    Cotton    |  94.44   |\n",
            "|     rice     |  88.89   |\n",
            "|  watermelon  |  100.0   |\n",
            "|   Tobacco    |  100.0   |\n",
            "+--------------+----------+\n"
          ],
          "name": "stdout"
        }
      ]
    },
    {
      "cell_type": "markdown",
      "metadata": {
        "id": "-Gna69072nZq",
        "colab_type": "text"
      },
      "source": [
        "## <b>Comparisons"
      ]
    },
    {
      "cell_type": "code",
      "metadata": {
        "id": "h6q9J2Ac2uAa",
        "colab_type": "code",
        "outputId": "e809631c-865f-49d4-94d1-e08f435bb8d2",
        "colab": {
          "base_uri": "https://localhost:8080/",
          "height": 153
        }
      },
      "source": [
        "table= PrettyTable()\n",
        "model=['KNN','Support Vector Machine','Decision Tree','Random Forest']\n",
        "AUC=[0.94259,0.96018,0.95555,0.96574]\n",
        "table.add_column(\"Model\",model)\n",
        "table.add_column(\"AUC\",AUC)\n",
        "print(table)"
      ],
      "execution_count": 0,
      "outputs": [
        {
          "output_type": "stream",
          "text": [
            "+------------------------+---------+\n",
            "|         Model          |   AUC   |\n",
            "+------------------------+---------+\n",
            "|          KNN           | 0.94259 |\n",
            "| Support Vector Machine | 0.96018 |\n",
            "|     Decision Tree      | 0.95555 |\n",
            "|     Random Forest      | 0.96574 |\n",
            "+------------------------+---------+\n"
          ],
          "name": "stdout"
        }
      ]
    },
    {
      "cell_type": "markdown",
      "metadata": {
        "id": "l7yCR_3VFquy",
        "colab_type": "text"
      },
      "source": [
        "# <b>Saving the model"
      ]
    },
    {
      "cell_type": "code",
      "metadata": {
        "id": "xN_-1-c1Fu3H",
        "colab_type": "code",
        "colab": {}
      },
      "source": [
        "dump(RF, '/content/drive/My Drive/CropPredictRF.joblib')\n",
        "dump(scaler,'/content/drive/My Drive/CropScaler.joblib')"
      ],
      "execution_count": 0,
      "outputs": []
    },
    {
      "cell_type": "markdown",
      "metadata": {
        "id": "dRokiKHwF6pX",
        "colab_type": "text"
      },
      "source": [
        "### <i>The saved persisted model can be loaded whenever required<br>It is very important to Scale the new features incoming using the same Scaler which was used during the MinMax scaling.<br>1)Load both model and scaler<br>2)Transform new data by using transform method of scaler object<br>3)Use predict method of RFmodel object  "
      ]
    }
  ]
}